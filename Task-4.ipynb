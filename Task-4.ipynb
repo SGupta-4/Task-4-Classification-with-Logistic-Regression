{
 "cells": [
  {
   "cell_type": "code",
   "execution_count": 1,
   "id": "036ac584",
   "metadata": {
    "_cell_guid": "b1076dfc-b9ad-4769-8c92-a6c4dae69d19",
    "_uuid": "8f2839f25d086af736a60e9eeb907d3b93b6e0e5",
    "execution": {
     "iopub.execute_input": "2025-09-26T12:14:23.294133Z",
     "iopub.status.busy": "2025-09-26T12:14:23.293826Z",
     "iopub.status.idle": "2025-09-26T12:14:25.156974Z",
     "shell.execute_reply": "2025-09-26T12:14:25.155954Z"
    },
    "papermill": {
     "duration": 1.869348,
     "end_time": "2025-09-26T12:14:25.158429",
     "exception": false,
     "start_time": "2025-09-26T12:14:23.289081",
     "status": "completed"
    },
    "tags": []
   },
   "outputs": [
    {
     "name": "stdout",
     "output_type": "stream",
     "text": [
      "/kaggle/input/breast-cancer-wisconsin-data/data.csv\n"
     ]
    }
   ],
   "source": [
    "# This Python 3 environment comes with many helpful analytics libraries installed\n",
    "# It is defined by the kaggle/python Docker image: https://github.com/kaggle/docker-python\n",
    "# For example, here's several helpful packages to load\n",
    "\n",
    "import numpy as np # linear algebra\n",
    "import pandas as pd # data processing, CSV file I/O (e.g. pd.read_csv)\n",
    "\n",
    "# Input data files are available in the read-only \"../input/\" directory\n",
    "# For example, running this (by clicking run or pressing Shift+Enter) will list all files under the input directory\n",
    "\n",
    "import os\n",
    "for dirname, _, filenames in os.walk('/kaggle/input'):\n",
    "    for filename in filenames:\n",
    "        print(os.path.join(dirname, filename))\n",
    "\n",
    "# You can write up to 20GB to the current directory (/kaggle/working/) that gets preserved as output when you create a version using \"Save & Run All\" \n",
    "# You can also write temporary files to /kaggle/temp/, but they won't be saved outside of the current session"
   ]
  },
  {
   "cell_type": "code",
   "execution_count": 2,
   "id": "d9cf65f2",
   "metadata": {
    "execution": {
     "iopub.execute_input": "2025-09-26T12:14:25.166124Z",
     "iopub.status.busy": "2025-09-26T12:14:25.165745Z",
     "iopub.status.idle": "2025-09-26T12:14:26.874139Z",
     "shell.execute_reply": "2025-09-26T12:14:26.873308Z"
    },
    "papermill": {
     "duration": 1.71385,
     "end_time": "2025-09-26T12:14:26.875827",
     "exception": false,
     "start_time": "2025-09-26T12:14:25.161977",
     "status": "completed"
    },
    "tags": []
   },
   "outputs": [],
   "source": [
    "import pandas as pd\n",
    "import numpy as np\n",
    "from sklearn.model_selection import train_test_split\n",
    "from sklearn.preprocessing import StandardScaler\n",
    "from sklearn.linear_model import LogisticRegression\n",
    "from sklearn.metrics import confusion_matrix, classification_report, roc_auc_score, roc_curve\n",
    "import matplotlib.pyplot as plt"
   ]
  },
  {
   "cell_type": "code",
   "execution_count": 3,
   "id": "a930e0c5",
   "metadata": {
    "execution": {
     "iopub.execute_input": "2025-09-26T12:14:26.883085Z",
     "iopub.status.busy": "2025-09-26T12:14:26.882590Z",
     "iopub.status.idle": "2025-09-26T12:14:26.908810Z",
     "shell.execute_reply": "2025-09-26T12:14:26.907787Z"
    },
    "papermill": {
     "duration": 0.031609,
     "end_time": "2025-09-26T12:14:26.910455",
     "exception": false,
     "start_time": "2025-09-26T12:14:26.878846",
     "status": "completed"
    },
    "tags": []
   },
   "outputs": [],
   "source": [
    "df= pd.read_csv('/kaggle/input/breast-cancer-wisconsin-data/data.csv')"
   ]
  },
  {
   "cell_type": "code",
   "execution_count": 4,
   "id": "556d5acd",
   "metadata": {
    "execution": {
     "iopub.execute_input": "2025-09-26T12:14:26.917661Z",
     "iopub.status.busy": "2025-09-26T12:14:26.917308Z",
     "iopub.status.idle": "2025-09-26T12:14:26.932874Z",
     "shell.execute_reply": "2025-09-26T12:14:26.931861Z"
    },
    "papermill": {
     "duration": 0.020896,
     "end_time": "2025-09-26T12:14:26.934438",
     "exception": false,
     "start_time": "2025-09-26T12:14:26.913542",
     "status": "completed"
    },
    "tags": []
   },
   "outputs": [],
   "source": [
    "df = df.drop([\"id\", \"Unnamed: 32\"], axis=1)\n",
    "df[\"diagnosis\"] = df[\"diagnosis\"].map({\"M\":1, \"B\":0})"
   ]
  },
  {
   "cell_type": "code",
   "execution_count": 5,
   "id": "fbb24127",
   "metadata": {
    "execution": {
     "iopub.execute_input": "2025-09-26T12:14:26.941501Z",
     "iopub.status.busy": "2025-09-26T12:14:26.941201Z",
     "iopub.status.idle": "2025-09-26T12:14:26.946907Z",
     "shell.execute_reply": "2025-09-26T12:14:26.946066Z"
    },
    "papermill": {
     "duration": 0.010913,
     "end_time": "2025-09-26T12:14:26.948406",
     "exception": false,
     "start_time": "2025-09-26T12:14:26.937493",
     "status": "completed"
    },
    "tags": []
   },
   "outputs": [],
   "source": [
    "X = df.drop(\"diagnosis\", axis=1)\n",
    "y = df[\"diagnosis\"]"
   ]
  },
  {
   "cell_type": "code",
   "execution_count": 6,
   "id": "f2f40601",
   "metadata": {
    "execution": {
     "iopub.execute_input": "2025-09-26T12:14:26.955452Z",
     "iopub.status.busy": "2025-09-26T12:14:26.955157Z",
     "iopub.status.idle": "2025-09-26T12:14:26.970780Z",
     "shell.execute_reply": "2025-09-26T12:14:26.969732Z"
    },
    "papermill": {
     "duration": 0.021353,
     "end_time": "2025-09-26T12:14:26.972590",
     "exception": false,
     "start_time": "2025-09-26T12:14:26.951237",
     "status": "completed"
    },
    "tags": []
   },
   "outputs": [],
   "source": [
    "X_train, X_test, y_train, y_test = train_test_split(X, y, test_size=0.2, random_state=42, stratify=y)\n"
   ]
  },
  {
   "cell_type": "code",
   "execution_count": 7,
   "id": "9cb5db8a",
   "metadata": {
    "execution": {
     "iopub.execute_input": "2025-09-26T12:14:26.980016Z",
     "iopub.status.busy": "2025-09-26T12:14:26.979705Z",
     "iopub.status.idle": "2025-09-26T12:14:27.038824Z",
     "shell.execute_reply": "2025-09-26T12:14:27.037920Z"
    },
    "papermill": {
     "duration": 0.064686,
     "end_time": "2025-09-26T12:14:27.040433",
     "exception": false,
     "start_time": "2025-09-26T12:14:26.975747",
     "status": "completed"
    },
    "tags": []
   },
   "outputs": [],
   "source": [
    "scaler = StandardScaler()\n",
    "X_train = scaler.fit_transform(X_train)\n",
    "X_test = scaler.transform(X_test)\n"
   ]
  },
  {
   "cell_type": "code",
   "execution_count": 8,
   "id": "683369df",
   "metadata": {
    "execution": {
     "iopub.execute_input": "2025-09-26T12:14:27.047440Z",
     "iopub.status.busy": "2025-09-26T12:14:27.047118Z",
     "iopub.status.idle": "2025-09-26T12:14:27.179046Z",
     "shell.execute_reply": "2025-09-26T12:14:27.178212Z"
    },
    "papermill": {
     "duration": 0.137551,
     "end_time": "2025-09-26T12:14:27.180923",
     "exception": false,
     "start_time": "2025-09-26T12:14:27.043372",
     "status": "completed"
    },
    "tags": []
   },
   "outputs": [
    {
     "data": {
      "text/html": [
       "<style>#sk-container-id-1 {color: black;background-color: white;}#sk-container-id-1 pre{padding: 0;}#sk-container-id-1 div.sk-toggleable {background-color: white;}#sk-container-id-1 label.sk-toggleable__label {cursor: pointer;display: block;width: 100%;margin-bottom: 0;padding: 0.3em;box-sizing: border-box;text-align: center;}#sk-container-id-1 label.sk-toggleable__label-arrow:before {content: \"▸\";float: left;margin-right: 0.25em;color: #696969;}#sk-container-id-1 label.sk-toggleable__label-arrow:hover:before {color: black;}#sk-container-id-1 div.sk-estimator:hover label.sk-toggleable__label-arrow:before {color: black;}#sk-container-id-1 div.sk-toggleable__content {max-height: 0;max-width: 0;overflow: hidden;text-align: left;background-color: #f0f8ff;}#sk-container-id-1 div.sk-toggleable__content pre {margin: 0.2em;color: black;border-radius: 0.25em;background-color: #f0f8ff;}#sk-container-id-1 input.sk-toggleable__control:checked~div.sk-toggleable__content {max-height: 200px;max-width: 100%;overflow: auto;}#sk-container-id-1 input.sk-toggleable__control:checked~label.sk-toggleable__label-arrow:before {content: \"▾\";}#sk-container-id-1 div.sk-estimator input.sk-toggleable__control:checked~label.sk-toggleable__label {background-color: #d4ebff;}#sk-container-id-1 div.sk-label input.sk-toggleable__control:checked~label.sk-toggleable__label {background-color: #d4ebff;}#sk-container-id-1 input.sk-hidden--visually {border: 0;clip: rect(1px 1px 1px 1px);clip: rect(1px, 1px, 1px, 1px);height: 1px;margin: -1px;overflow: hidden;padding: 0;position: absolute;width: 1px;}#sk-container-id-1 div.sk-estimator {font-family: monospace;background-color: #f0f8ff;border: 1px dotted black;border-radius: 0.25em;box-sizing: border-box;margin-bottom: 0.5em;}#sk-container-id-1 div.sk-estimator:hover {background-color: #d4ebff;}#sk-container-id-1 div.sk-parallel-item::after {content: \"\";width: 100%;border-bottom: 1px solid gray;flex-grow: 1;}#sk-container-id-1 div.sk-label:hover label.sk-toggleable__label {background-color: #d4ebff;}#sk-container-id-1 div.sk-serial::before {content: \"\";position: absolute;border-left: 1px solid gray;box-sizing: border-box;top: 0;bottom: 0;left: 50%;z-index: 0;}#sk-container-id-1 div.sk-serial {display: flex;flex-direction: column;align-items: center;background-color: white;padding-right: 0.2em;padding-left: 0.2em;position: relative;}#sk-container-id-1 div.sk-item {position: relative;z-index: 1;}#sk-container-id-1 div.sk-parallel {display: flex;align-items: stretch;justify-content: center;background-color: white;position: relative;}#sk-container-id-1 div.sk-item::before, #sk-container-id-1 div.sk-parallel-item::before {content: \"\";position: absolute;border-left: 1px solid gray;box-sizing: border-box;top: 0;bottom: 0;left: 50%;z-index: -1;}#sk-container-id-1 div.sk-parallel-item {display: flex;flex-direction: column;z-index: 1;position: relative;background-color: white;}#sk-container-id-1 div.sk-parallel-item:first-child::after {align-self: flex-end;width: 50%;}#sk-container-id-1 div.sk-parallel-item:last-child::after {align-self: flex-start;width: 50%;}#sk-container-id-1 div.sk-parallel-item:only-child::after {width: 0;}#sk-container-id-1 div.sk-dashed-wrapped {border: 1px dashed gray;margin: 0 0.4em 0.5em 0.4em;box-sizing: border-box;padding-bottom: 0.4em;background-color: white;}#sk-container-id-1 div.sk-label label {font-family: monospace;font-weight: bold;display: inline-block;line-height: 1.2em;}#sk-container-id-1 div.sk-label-container {text-align: center;}#sk-container-id-1 div.sk-container {/* jupyter's `normalize.less` sets `[hidden] { display: none; }` but bootstrap.min.css set `[hidden] { display: none !important; }` so we also need the `!important` here to be able to override the default hidden behavior on the sphinx rendered scikit-learn.org. See: https://github.com/scikit-learn/scikit-learn/issues/21755 */display: inline-block !important;position: relative;}#sk-container-id-1 div.sk-text-repr-fallback {display: none;}</style><div id=\"sk-container-id-1\" class=\"sk-top-container\"><div class=\"sk-text-repr-fallback\"><pre>LogisticRegression(max_iter=5000)</pre><b>In a Jupyter environment, please rerun this cell to show the HTML representation or trust the notebook. <br />On GitHub, the HTML representation is unable to render, please try loading this page with nbviewer.org.</b></div><div class=\"sk-container\" hidden><div class=\"sk-item\"><div class=\"sk-estimator sk-toggleable\"><input class=\"sk-toggleable__control sk-hidden--visually\" id=\"sk-estimator-id-1\" type=\"checkbox\" checked><label for=\"sk-estimator-id-1\" class=\"sk-toggleable__label sk-toggleable__label-arrow\">LogisticRegression</label><div class=\"sk-toggleable__content\"><pre>LogisticRegression(max_iter=5000)</pre></div></div></div></div></div>"
      ],
      "text/plain": [
       "LogisticRegression(max_iter=5000)"
      ]
     },
     "execution_count": 8,
     "metadata": {},
     "output_type": "execute_result"
    }
   ],
   "source": [
    "model = LogisticRegression(max_iter=5000)\n",
    "model.fit(X_train, y_train)"
   ]
  },
  {
   "cell_type": "code",
   "execution_count": 9,
   "id": "3260792c",
   "metadata": {
    "execution": {
     "iopub.execute_input": "2025-09-26T12:14:27.192250Z",
     "iopub.status.busy": "2025-09-26T12:14:27.191464Z",
     "iopub.status.idle": "2025-09-26T12:14:27.198733Z",
     "shell.execute_reply": "2025-09-26T12:14:27.197995Z"
    },
    "papermill": {
     "duration": 0.01448,
     "end_time": "2025-09-26T12:14:27.200393",
     "exception": false,
     "start_time": "2025-09-26T12:14:27.185913",
     "status": "completed"
    },
    "tags": []
   },
   "outputs": [],
   "source": [
    "y_pred = model.predict(X_test)\n",
    "y_prob = model.predict_proba(X_test)[:,1]"
   ]
  },
  {
   "cell_type": "code",
   "execution_count": 10,
   "id": "e2f2687b",
   "metadata": {
    "execution": {
     "iopub.execute_input": "2025-09-26T12:14:27.211479Z",
     "iopub.status.busy": "2025-09-26T12:14:27.211052Z",
     "iopub.status.idle": "2025-09-26T12:14:27.220386Z",
     "shell.execute_reply": "2025-09-26T12:14:27.219586Z"
    },
    "papermill": {
     "duration": 0.01683,
     "end_time": "2025-09-26T12:14:27.222387",
     "exception": false,
     "start_time": "2025-09-26T12:14:27.205557",
     "status": "completed"
    },
    "tags": []
   },
   "outputs": [],
   "source": [
    "cm = confusion_matrix(y_test, y_pred)"
   ]
  },
  {
   "cell_type": "code",
   "execution_count": 11,
   "id": "40b61e91",
   "metadata": {
    "execution": {
     "iopub.execute_input": "2025-09-26T12:14:27.234484Z",
     "iopub.status.busy": "2025-09-26T12:14:27.232704Z",
     "iopub.status.idle": "2025-09-26T12:14:27.254947Z",
     "shell.execute_reply": "2025-09-26T12:14:27.254113Z"
    },
    "papermill": {
     "duration": 0.029909,
     "end_time": "2025-09-26T12:14:27.257074",
     "exception": false,
     "start_time": "2025-09-26T12:14:27.227165",
     "status": "completed"
    },
    "tags": []
   },
   "outputs": [
    {
     "name": "stdout",
     "output_type": "stream",
     "text": [
      "Confusion Matrix:\n",
      " [[71  1]\n",
      " [ 3 39]]\n",
      "\n",
      "Classification Report:\n",
      "               precision    recall  f1-score   support\n",
      "\n",
      "           0       0.96      0.99      0.97        72\n",
      "           1       0.97      0.93      0.95        42\n",
      "\n",
      "    accuracy                           0.96       114\n",
      "   macro avg       0.97      0.96      0.96       114\n",
      "weighted avg       0.97      0.96      0.96       114\n",
      "\n",
      "ROC-AUC Score: 0.996031746031746\n"
     ]
    }
   ],
   "source": [
    "print(\"Confusion Matrix:\\n\", cm)\n",
    "print(\"\\nClassification Report:\\n\", classification_report(y_test, y_pred))\n",
    "print(\"ROC-AUC Score:\", roc_auc_score(y_test, y_prob))"
   ]
  },
  {
   "cell_type": "code",
   "execution_count": 12,
   "id": "ad424996",
   "metadata": {
    "execution": {
     "iopub.execute_input": "2025-09-26T12:14:27.268693Z",
     "iopub.status.busy": "2025-09-26T12:14:27.267848Z",
     "iopub.status.idle": "2025-09-26T12:14:27.542605Z",
     "shell.execute_reply": "2025-09-26T12:14:27.541508Z"
    },
    "papermill": {
     "duration": 0.282056,
     "end_time": "2025-09-26T12:14:27.544249",
     "exception": false,
     "start_time": "2025-09-26T12:14:27.262193",
     "status": "completed"
    },
    "tags": []
   },
   "outputs": [
    {
     "data": {
      "image/png": "[encoded data removed]",
      "text/plain": [
       "<Figure size 640x480 with 1 Axes>"
      ]
     },
     "metadata": {},
     "output_type": "display_data"
    }
   ],
   "source": [
    "fpr, tpr, thresholds = roc_curve(y_test, y_prob)\n",
    "plt.plot(fpr, tpr, label=\"ROC curve\")\n",
    "plt.plot([0,1], [0,1], \"k--\")\n",
    "plt.xlabel(\"False Positive Rate\")\n",
    "plt.ylabel(\"True Positive Rate\")\n",
    "plt.title(\"ROC Curve\")\n",
    "plt.legend()\n",
    "plt.show()"
   ]
  },
  {
   "cell_type": "code",
   "execution_count": null,
   "id": "7b417043",
   "metadata": {
    "papermill": {
     "duration": 0.003563,
     "end_time": "2025-09-26T12:14:27.551723",
     "exception": false,
     "start_time": "2025-09-26T12:14:27.548160",
     "status": "completed"
    },
    "tags": []
   },
   "outputs": [],
   "source": []
  }
 ],
 "metadata": {
  "kaggle": {
   "accelerator": "none",
   "dataSources": [
    {
     "datasetId": 180,
     "sourceId": 408,
     "sourceType": "datasetVersion"
    }
   ],
   "dockerImageVersionId": 31089,
   "isGpuEnabled": false,
   "isInternetEnabled": true,
   "language": "python",
   "sourceType": "notebook"
  },
  "kernelspec": {
   "display_name": "Python 3",
   "language": "python",
   "name": "python3"
  },
  "language_info": {
   "codemirror_mode": {
    "name": "ipython",
    "version": 3
   },
   "file_extension": ".py",
   "mimetype": "text/x-python",
   "name": "python",
   "nbconvert_exporter": "python",
   "pygments_lexer": "ipython3",
   "version": "3.11.13"
  },
  "papermill": {
   "default_parameters": {},
   "duration": 10.643711,
   "end_time": "2025-09-26T12:14:28.277550",
   "environment_variables": {},
   "exception": null,
   "input_path": "__notebook__.ipynb",
   "output_path": "__notebook__.ipynb",
   "parameters": {},
   "start_time": "2025-09-26T12:14:17.633839",
   "version": "2.6.0"
  }
 },
 "nbformat": 4,
 "nbformat_minor": 5
}
